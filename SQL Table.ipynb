{
 "cells": [
  {
   "cell_type": "code",
   "execution_count": null,
   "id": "68c3c091",
   "metadata": {},
   "outputs": [],
   "source": [
    "CREATE TABLE footbal_legends (\n",
    "    ID INTEGER,\n",
    "    Name TEXT,\n",
    "    Age INTEGER,\n",
    "  \tClub TEXT,\n",
    "  \tLeague TEXT,\n",
    "  \tPeriod Integer\n",
    ");\n",
    "\n",
    "INSERT INTO footbal_legends(ID, Name, Age, Club, League, Period)\n",
    "VALUES (1, 'Lionel Messi', 36, 'Inter-Miami', 'MLS', 1);\n",
    "INSERT INTO footbal_legends(ID, Name, Age, Club, League, Period)\n",
    "VALUES (2, 'Sadio Mane', 31, 'AI-NSSR', 'Saudi Pro League', 1);\n",
    "INSERT INTO footbal_legends(ID, Name, Age, Club, League, Period)\n",
    "VALUES (3, 'Thiago Silver', 37, 'Chelsea', 'EPL', 7);\n",
    "INSERT INTO footbal_legends(ID, Name, Age, Club, League, Period)\n",
    "VALUES (4, 'Anthony Martial', 28, 'Manchester United', 'EPL', 5);\n",
    "\n",
    "SELECT *\n",
    "FROM footbal_legends;\n",
    "\n",
    "ALTER TABLE footbal_legends\n",
    "ADD COLUMN Nationality TEXT;\n",
    "\n",
    "UPDATE footbal_legends\n",
    "\tSET\n",
    "    \tNationality = 'Argentina'\n",
    "    WHERE\n",
    "    \tID = 1\n",
    "UPDATE footbal_legends\n",
    "\tSET\n",
    "    \tNationality = 'Senegal'\n",
    "    WHERE\n",
    "    \tID = 2\n",
    "UPDATE footbal_legends\n",
    "\tSET\n",
    "    \tNationality = 'Branzil'\n",
    "    WHERE\n",
    "    \tID = 3\n",
    " UPDATE footbal_legends\n",
    "\tSET\n",
    "    \tNationality = 'France'\n",
    "    WHERE\n",
    "    \tID = 4\n",
    "        \n",
    "DELETE FROM footbal_legends \n",
    "WHERE ID = 4;\n",
    "        \n",
    "SELECT *\n",
    "FROM footbal_legends;"
   ]
  }
 ],
 "metadata": {
  "kernelspec": {
   "display_name": "Python 3 (ipykernel)",
   "language": "python",
   "name": "python3"
  },
  "language_info": {
   "codemirror_mode": {
    "name": "ipython",
    "version": 3
   },
   "file_extension": ".py",
   "mimetype": "text/x-python",
   "name": "python",
   "nbconvert_exporter": "python",
   "pygments_lexer": "ipython3",
   "version": "3.11.4"
  }
 },
 "nbformat": 4,
 "nbformat_minor": 5
}
