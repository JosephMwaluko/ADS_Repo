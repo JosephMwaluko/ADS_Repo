{
  "nbformat": 4,
  "nbformat_minor": 0,
  "metadata": {
    "colab": {
      "provenance": []
    },
    "kernelspec": {
      "name": "python3",
      "display_name": "Python 3"
    },
    "language_info": {
      "name": "python"
    }
  },
  "cells": [
    {
      "cell_type": "code",
      "execution_count": null,
      "metadata": {
        "id": "UPQTWADUcoJH"
      },
      "outputs": [],
      "source": [
        "!pip install ipython-sql"
      ]
    },
    {
      "cell_type": "code",
      "source": [
        "%load_ext sql\n",
        "%sql sqlite://"
      ],
      "metadata": {
        "colab": {
          "base_uri": "https://localhost:8080/"
        },
        "id": "I4LHbwoOdDuL",
        "outputId": "669b672d-a067-48f5-aa1f-a2b905d1e42c"
      },
      "execution_count": 15,
      "outputs": [
        {
          "output_type": "stream",
          "name": "stdout",
          "text": [
            "The sql extension is already loaded. To reload it, use:\n",
            "  %reload_ext sql\n"
          ]
        }
      ]
    },
    {
      "cell_type": "code",
      "source": [
        "%%sql\n",
        "\n",
        "CREATE TABLE footbal_legends (\n",
        "    ID INTEGER,\n",
        "    Name TEXT,\n",
        "    Age INTEGER,\n",
        "  \tClub TEXT,\n",
        "  \tLeague TEXT,\n",
        "  \tPeriod Integer\n",
        ");"
      ],
      "metadata": {
        "id": "dAyNXMPsdXYj"
      },
      "execution_count": null,
      "outputs": []
    },
    {
      "cell_type": "code",
      "source": [
        "%%sql\n",
        "\n",
        "INSERT INTO footbal_legends(ID, Name, Age, Club, League, Period)\n",
        "VALUES (1, 'Lionel Messi', 36, 'Inter-Miami', 'MLS', 1);\n",
        "INSERT INTO footbal_legends(ID, Name, Age, Club, League, Period)\n",
        "VALUES (2, 'Sadio Mane', 31, 'AI-NSSR', 'Saudi Pro League', 1);\n",
        "INSERT INTO footbal_legends(ID, Name, Age, Club, League, Period)\n",
        "VALUES (3, 'Thiago Silver', 37, 'Chelsea', 'EPL', 7);\n",
        "INSERT INTO footbal_legends(ID, Name, Age, Club, League, Period)\n",
        "VALUES (4, 'Anthony Martial', 28, 'Manchester United', 'EPL', 5);"
      ],
      "metadata": {
        "colab": {
          "base_uri": "https://localhost:8080/"
        },
        "id": "E72ssJoTdmlX",
        "outputId": "05a95126-3e1c-42d2-d16f-80bfe210d013"
      },
      "execution_count": 17,
      "outputs": [
        {
          "output_type": "stream",
          "name": "stdout",
          "text": [
            " * sqlite://\n",
            "1 rows affected.\n",
            "1 rows affected.\n",
            "1 rows affected.\n",
            "1 rows affected.\n"
          ]
        },
        {
          "output_type": "execute_result",
          "data": {
            "text/plain": [
              "[]"
            ]
          },
          "metadata": {},
          "execution_count": 17
        }
      ]
    },
    {
      "cell_type": "code",
      "source": [
        "%%sql\n",
        "\n",
        "SELECT *\n",
        "FROM footbal_legends"
      ],
      "metadata": {
        "colab": {
          "base_uri": "https://localhost:8080/",
          "height": 225
        },
        "id": "eTJTM8zueJbN",
        "outputId": "0a1cafb1-1f8a-4ce9-a542-25f50d89a076"
      },
      "execution_count": 18,
      "outputs": [
        {
          "output_type": "stream",
          "name": "stdout",
          "text": [
            " * sqlite://\n",
            "Done.\n"
          ]
        },
        {
          "output_type": "execute_result",
          "data": {
            "text/plain": [
              "[(1, 'Lionel Messi', 36, 'Inter-Miami', 'MLS', 1, None),\n",
              " (2, 'Sadio Mane', 31, 'AI-NSSR', 'Saudi Pro League', 1, None),\n",
              " (3, 'Thiago Silver', 37, 'Chelsea', 'EPL', 7, None),\n",
              " (1, 'Lionel Messi', 36, 'Inter-Miami', 'MLS', 1, None),\n",
              " (2, 'Sadio Mane', 31, 'AI-NSSR', 'Saudi Pro League', 1, None),\n",
              " (3, 'Thiago Silver', 37, 'Chelsea', 'EPL', 7, None),\n",
              " (4, 'Anthony Martial', 28, 'Manchester United', 'EPL', 5, None)]"
            ],
            "text/html": [
              "<table>\n",
              "    <thead>\n",
              "        <tr>\n",
              "            <th>ID</th>\n",
              "            <th>Name</th>\n",
              "            <th>Age</th>\n",
              "            <th>Club</th>\n",
              "            <th>League</th>\n",
              "            <th>Period</th>\n",
              "            <th>Nationality</th>\n",
              "        </tr>\n",
              "    </thead>\n",
              "    <tbody>\n",
              "        <tr>\n",
              "            <td>1</td>\n",
              "            <td>Lionel Messi</td>\n",
              "            <td>36</td>\n",
              "            <td>Inter-Miami</td>\n",
              "            <td>MLS</td>\n",
              "            <td>1</td>\n",
              "            <td>None</td>\n",
              "        </tr>\n",
              "        <tr>\n",
              "            <td>2</td>\n",
              "            <td>Sadio Mane</td>\n",
              "            <td>31</td>\n",
              "            <td>AI-NSSR</td>\n",
              "            <td>Saudi Pro League</td>\n",
              "            <td>1</td>\n",
              "            <td>None</td>\n",
              "        </tr>\n",
              "        <tr>\n",
              "            <td>3</td>\n",
              "            <td>Thiago Silver</td>\n",
              "            <td>37</td>\n",
              "            <td>Chelsea</td>\n",
              "            <td>EPL</td>\n",
              "            <td>7</td>\n",
              "            <td>None</td>\n",
              "        </tr>\n",
              "        <tr>\n",
              "            <td>1</td>\n",
              "            <td>Lionel Messi</td>\n",
              "            <td>36</td>\n",
              "            <td>Inter-Miami</td>\n",
              "            <td>MLS</td>\n",
              "            <td>1</td>\n",
              "            <td>None</td>\n",
              "        </tr>\n",
              "        <tr>\n",
              "            <td>2</td>\n",
              "            <td>Sadio Mane</td>\n",
              "            <td>31</td>\n",
              "            <td>AI-NSSR</td>\n",
              "            <td>Saudi Pro League</td>\n",
              "            <td>1</td>\n",
              "            <td>None</td>\n",
              "        </tr>\n",
              "        <tr>\n",
              "            <td>3</td>\n",
              "            <td>Thiago Silver</td>\n",
              "            <td>37</td>\n",
              "            <td>Chelsea</td>\n",
              "            <td>EPL</td>\n",
              "            <td>7</td>\n",
              "            <td>None</td>\n",
              "        </tr>\n",
              "        <tr>\n",
              "            <td>4</td>\n",
              "            <td>Anthony Martial</td>\n",
              "            <td>28</td>\n",
              "            <td>Manchester United</td>\n",
              "            <td>EPL</td>\n",
              "            <td>5</td>\n",
              "            <td>None</td>\n",
              "        </tr>\n",
              "    </tbody>\n",
              "</table>"
            ]
          },
          "metadata": {},
          "execution_count": 18
        }
      ]
    },
    {
      "cell_type": "code",
      "source": [
        "%%sql\n",
        "\n",
        "ALTER TABLE footbal_legends\n",
        "ADD COLUMN Nationality TEXT;"
      ],
      "metadata": {
        "colab": {
          "base_uri": "https://localhost:8080/"
        },
        "id": "bDOcPKDRedE2",
        "outputId": "9e5e1006-2470-4eff-b932-ffeb73a4e381"
      },
      "execution_count": 19,
      "outputs": [
        {
          "output_type": "stream",
          "name": "stdout",
          "text": [
            " * sqlite://\n",
            "(sqlite3.OperationalError) duplicate column name: Nationality\n",
            "[SQL: ALTER TABLE footbal_legends\n",
            "ADD COLUMN Nationality TEXT;]\n",
            "(Background on this error at: https://sqlalche.me/e/20/e3q8)\n"
          ]
        }
      ]
    },
    {
      "cell_type": "code",
      "source": [
        "%%sql\n",
        "\n",
        "UPDATE footbal_legends\n",
        "\tSET\n",
        "    \tNationality = 'Argentina'\n",
        "    WHERE\n",
        "    \tID = 1\n",
        "UPDATE footbal_legends\n",
        "\tSET\n",
        "    \tNationality = 'Senegal'\n",
        "    WHERE\n",
        "    \tID = 2\n",
        "UPDATE footbal_legends\n",
        "\tSET\n",
        "    \tNationality = 'Branzil'\n",
        "    WHERE\n",
        "    \tID = 3\n",
        " UPDATE footbal_legends\n",
        "\tSET\n",
        "    \tNationality = 'France'\n",
        "    WHERE\n",
        "    \tID = 4"
      ],
      "metadata": {
        "colab": {
          "base_uri": "https://localhost:8080/"
        },
        "id": "knpUFrPlexAE",
        "outputId": "660ee0ee-ba20-4bf4-bc05-9517c8d9b325"
      },
      "execution_count": 20,
      "outputs": [
        {
          "output_type": "stream",
          "name": "stdout",
          "text": [
            " * sqlite://\n",
            "(sqlite3.OperationalError) near \"UPDATE\": syntax error\n",
            "[SQL: UPDATE footbal_legends\n",
            "\tSET\n",
            "    \tNationality = 'Argentina'\n",
            "    WHERE\n",
            "    \tID = 1\n",
            "UPDATE footbal_legends\n",
            "\tSET\n",
            "    \tNationality = 'Senegal'\n",
            "    WHERE\n",
            "    \tID = 2\n",
            "UPDATE footbal_legends\n",
            "\tSET\n",
            "    \tNationality = 'Branzil'\n",
            "    WHERE\n",
            "    \tID = 3\n",
            " UPDATE footbal_legends\n",
            "\tSET\n",
            "    \tNationality = 'France'\n",
            "    WHERE\n",
            "    \tID = 4]\n",
            "(Background on this error at: https://sqlalche.me/e/20/e3q8)\n"
          ]
        }
      ]
    },
    {
      "cell_type": "code",
      "source": [
        "%%sql\n",
        "\n",
        "SELECT *\n",
        "FROM footbal_legends"
      ],
      "metadata": {
        "colab": {
          "base_uri": "https://localhost:8080/",
          "height": 225
        },
        "id": "w0i5XkoWe2QL",
        "outputId": "2cd45edb-7ef2-4c4f-9bc1-2ba649a6ce90"
      },
      "execution_count": 21,
      "outputs": [
        {
          "output_type": "stream",
          "name": "stdout",
          "text": [
            " * sqlite://\n",
            "Done.\n"
          ]
        },
        {
          "output_type": "execute_result",
          "data": {
            "text/plain": [
              "[(1, 'Lionel Messi', 36, 'Inter-Miami', 'MLS', 1, None),\n",
              " (2, 'Sadio Mane', 31, 'AI-NSSR', 'Saudi Pro League', 1, None),\n",
              " (3, 'Thiago Silver', 37, 'Chelsea', 'EPL', 7, None),\n",
              " (1, 'Lionel Messi', 36, 'Inter-Miami', 'MLS', 1, None),\n",
              " (2, 'Sadio Mane', 31, 'AI-NSSR', 'Saudi Pro League', 1, None),\n",
              " (3, 'Thiago Silver', 37, 'Chelsea', 'EPL', 7, None),\n",
              " (4, 'Anthony Martial', 28, 'Manchester United', 'EPL', 5, None)]"
            ],
            "text/html": [
              "<table>\n",
              "    <thead>\n",
              "        <tr>\n",
              "            <th>ID</th>\n",
              "            <th>Name</th>\n",
              "            <th>Age</th>\n",
              "            <th>Club</th>\n",
              "            <th>League</th>\n",
              "            <th>Period</th>\n",
              "            <th>Nationality</th>\n",
              "        </tr>\n",
              "    </thead>\n",
              "    <tbody>\n",
              "        <tr>\n",
              "            <td>1</td>\n",
              "            <td>Lionel Messi</td>\n",
              "            <td>36</td>\n",
              "            <td>Inter-Miami</td>\n",
              "            <td>MLS</td>\n",
              "            <td>1</td>\n",
              "            <td>None</td>\n",
              "        </tr>\n",
              "        <tr>\n",
              "            <td>2</td>\n",
              "            <td>Sadio Mane</td>\n",
              "            <td>31</td>\n",
              "            <td>AI-NSSR</td>\n",
              "            <td>Saudi Pro League</td>\n",
              "            <td>1</td>\n",
              "            <td>None</td>\n",
              "        </tr>\n",
              "        <tr>\n",
              "            <td>3</td>\n",
              "            <td>Thiago Silver</td>\n",
              "            <td>37</td>\n",
              "            <td>Chelsea</td>\n",
              "            <td>EPL</td>\n",
              "            <td>7</td>\n",
              "            <td>None</td>\n",
              "        </tr>\n",
              "        <tr>\n",
              "            <td>1</td>\n",
              "            <td>Lionel Messi</td>\n",
              "            <td>36</td>\n",
              "            <td>Inter-Miami</td>\n",
              "            <td>MLS</td>\n",
              "            <td>1</td>\n",
              "            <td>None</td>\n",
              "        </tr>\n",
              "        <tr>\n",
              "            <td>2</td>\n",
              "            <td>Sadio Mane</td>\n",
              "            <td>31</td>\n",
              "            <td>AI-NSSR</td>\n",
              "            <td>Saudi Pro League</td>\n",
              "            <td>1</td>\n",
              "            <td>None</td>\n",
              "        </tr>\n",
              "        <tr>\n",
              "            <td>3</td>\n",
              "            <td>Thiago Silver</td>\n",
              "            <td>37</td>\n",
              "            <td>Chelsea</td>\n",
              "            <td>EPL</td>\n",
              "            <td>7</td>\n",
              "            <td>None</td>\n",
              "        </tr>\n",
              "        <tr>\n",
              "            <td>4</td>\n",
              "            <td>Anthony Martial</td>\n",
              "            <td>28</td>\n",
              "            <td>Manchester United</td>\n",
              "            <td>EPL</td>\n",
              "            <td>5</td>\n",
              "            <td>None</td>\n",
              "        </tr>\n",
              "    </tbody>\n",
              "</table>"
            ]
          },
          "metadata": {},
          "execution_count": 21
        }
      ]
    },
    {
      "cell_type": "code",
      "source": [
        "%%sql\n",
        "\n",
        "DELETE FROM footbal_legends\n",
        "WHERE ID = 4;"
      ],
      "metadata": {
        "colab": {
          "base_uri": "https://localhost:8080/"
        },
        "id": "SMUjH9dhfRXu",
        "outputId": "f344e2e7-724e-4bd1-fd1a-1d4f53ad1bd6"
      },
      "execution_count": 22,
      "outputs": [
        {
          "output_type": "stream",
          "name": "stdout",
          "text": [
            " * sqlite://\n",
            "1 rows affected.\n"
          ]
        },
        {
          "output_type": "execute_result",
          "data": {
            "text/plain": [
              "[]"
            ]
          },
          "metadata": {},
          "execution_count": 22
        }
      ]
    },
    {
      "cell_type": "code",
      "source": [
        "%%sql\n",
        "\n",
        "SELECT *\n",
        "FROM footbal_legends;"
      ],
      "metadata": {
        "colab": {
          "base_uri": "https://localhost:8080/",
          "height": 203
        },
        "id": "1YyrSFIpfa9y",
        "outputId": "af3d7ca7-694e-43b8-dc85-e8b0a55fdd6b"
      },
      "execution_count": 23,
      "outputs": [
        {
          "output_type": "stream",
          "name": "stdout",
          "text": [
            " * sqlite://\n",
            "Done.\n"
          ]
        },
        {
          "output_type": "execute_result",
          "data": {
            "text/plain": [
              "[(1, 'Lionel Messi', 36, 'Inter-Miami', 'MLS', 1, None),\n",
              " (2, 'Sadio Mane', 31, 'AI-NSSR', 'Saudi Pro League', 1, None),\n",
              " (3, 'Thiago Silver', 37, 'Chelsea', 'EPL', 7, None),\n",
              " (1, 'Lionel Messi', 36, 'Inter-Miami', 'MLS', 1, None),\n",
              " (2, 'Sadio Mane', 31, 'AI-NSSR', 'Saudi Pro League', 1, None),\n",
              " (3, 'Thiago Silver', 37, 'Chelsea', 'EPL', 7, None)]"
            ],
            "text/html": [
              "<table>\n",
              "    <thead>\n",
              "        <tr>\n",
              "            <th>ID</th>\n",
              "            <th>Name</th>\n",
              "            <th>Age</th>\n",
              "            <th>Club</th>\n",
              "            <th>League</th>\n",
              "            <th>Period</th>\n",
              "            <th>Nationality</th>\n",
              "        </tr>\n",
              "    </thead>\n",
              "    <tbody>\n",
              "        <tr>\n",
              "            <td>1</td>\n",
              "            <td>Lionel Messi</td>\n",
              "            <td>36</td>\n",
              "            <td>Inter-Miami</td>\n",
              "            <td>MLS</td>\n",
              "            <td>1</td>\n",
              "            <td>None</td>\n",
              "        </tr>\n",
              "        <tr>\n",
              "            <td>2</td>\n",
              "            <td>Sadio Mane</td>\n",
              "            <td>31</td>\n",
              "            <td>AI-NSSR</td>\n",
              "            <td>Saudi Pro League</td>\n",
              "            <td>1</td>\n",
              "            <td>None</td>\n",
              "        </tr>\n",
              "        <tr>\n",
              "            <td>3</td>\n",
              "            <td>Thiago Silver</td>\n",
              "            <td>37</td>\n",
              "            <td>Chelsea</td>\n",
              "            <td>EPL</td>\n",
              "            <td>7</td>\n",
              "            <td>None</td>\n",
              "        </tr>\n",
              "        <tr>\n",
              "            <td>1</td>\n",
              "            <td>Lionel Messi</td>\n",
              "            <td>36</td>\n",
              "            <td>Inter-Miami</td>\n",
              "            <td>MLS</td>\n",
              "            <td>1</td>\n",
              "            <td>None</td>\n",
              "        </tr>\n",
              "        <tr>\n",
              "            <td>2</td>\n",
              "            <td>Sadio Mane</td>\n",
              "            <td>31</td>\n",
              "            <td>AI-NSSR</td>\n",
              "            <td>Saudi Pro League</td>\n",
              "            <td>1</td>\n",
              "            <td>None</td>\n",
              "        </tr>\n",
              "        <tr>\n",
              "            <td>3</td>\n",
              "            <td>Thiago Silver</td>\n",
              "            <td>37</td>\n",
              "            <td>Chelsea</td>\n",
              "            <td>EPL</td>\n",
              "            <td>7</td>\n",
              "            <td>None</td>\n",
              "        </tr>\n",
              "    </tbody>\n",
              "</table>"
            ]
          },
          "metadata": {},
          "execution_count": 23
        }
      ]
    }
  ]
}